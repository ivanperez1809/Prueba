{
 "cells": [
  {
   "cell_type": "markdown",
   "id": "9df5e47e-89e6-418d-bab0-47f988d7d7e1",
   "metadata": {},
   "source": [
    "### Librerías"
   ]
  },
  {
   "cell_type": "code",
   "execution_count": 2,
   "id": "4f816d90-2d33-49d0-9821-a654f4e6eeae",
   "metadata": {},
   "outputs": [],
   "source": [
    "import numpy as np\n",
    "import sympy as sp\n",
    "from sympy import Symbol"
   ]
  },
  {
   "cell_type": "code",
   "execution_count": 3,
   "id": "a3ce1917-d280-4599-980d-ac375594d223",
   "metadata": {},
   "outputs": [],
   "source": [
    "x0 = Symbol('x0')\n",
    "x1 = Symbol('x1')\n",
    "x2 = Symbol('x2')"
   ]
  },
  {
   "cell_type": "markdown",
   "id": "95e09b18-19e2-4d7e-b287-e8a2a9d12949",
   "metadata": {},
   "source": [
    "### Función Hessiano"
   ]
  },
  {
   "cell_type": "code",
   "execution_count": 4,
   "id": "af3aeaf4-6c6f-4b72-9fb2-8df4e1cdee8f",
   "metadata": {},
   "outputs": [],
   "source": [
    "def Hessiano(f):\n",
    "    der1_x0 = sp.diff(f,x0) ; der1_x1 = sp.diff(f,x1) ; der1_x2 = sp.diff(f,x2)\n",
    "    \n",
    "    der2_x0x0 = sp.diff(der1_x0,x0) ; der2_x1x1 = sp.diff(der1_x1,x1) ; der2_x2x2 = sp.diff(der1_x2,x2)\n",
    "    der2_x0x1 = sp.diff(der1_x0,x1); der2_x0x2 = sp.diff(der1_x0,x2) ; der2_x1x2 = sp.diff(der1_x1,x2)\n",
    "    \n",
    "    Hess = sp.Matrix([[der2_x0x0, der2_x0x1, der2_x0x2],[der2_x0x1, der2_x1x1,der2_x1x2],[der2_x0x2,der2_x1x2,der2_x2x2]])\n",
    "    return(Hess.det())"
   ]
  },
  {
   "cell_type": "markdown",
   "id": "3b2daeb6-42c6-488b-8c10-f97bedfea2e9",
   "metadata": {},
   "source": [
    "### Polinomios"
   ]
  },
  {
   "cell_type": "code",
   "execution_count": 13,
   "id": "4fbce59c-dedd-4c41-8b29-8585e8405baf",
   "metadata": {},
   "outputs": [],
   "source": [
    "f = x1**5 - 2*x1**3*x2 + x1*x2**2 - x2**3\n",
    "g = -x1**5 + x1**4 - 2*x1**2*x2 + x2**2"
   ]
  },
  {
   "cell_type": "code",
   "execution_count": 5,
   "id": "0290de8f-992e-49f0-9aef-3fb2692efe80",
   "metadata": {},
   "outputs": [],
   "source": [
    "F = x1**5 -2*x0*x1**3*x2+x0**2*x1*x2**2 - x0**2*x2**3\n",
    "G = -x1**5 + x0*x1**4 - 2*x0**2*x1**2*x2+x0**3*x2**2"
   ]
  },
  {
   "cell_type": "markdown",
   "id": "23356278-ead7-4525-a814-1c58262063c7",
   "metadata": {},
   "source": [
    "### Hessianos de nuestros polinomios homogéneos"
   ]
  },
  {
   "cell_type": "code",
   "execution_count": 6,
   "id": "8b485327-7001-44ed-99d2-04d4134d49ab",
   "metadata": {},
   "outputs": [
    {
     "data": {
      "text/latex": [
       "$\\displaystyle 16 x_{0}^{4} x_{1} x_{2}^{4} - 16 x_{0}^{4} x_{2}^{5} + 32 x_{0}^{3} x_{1}^{3} x_{2}^{3} - 288 x_{0}^{3} x_{1}^{2} x_{2}^{4} + 288 x_{0}^{3} x_{1} x_{2}^{5} - 192 x_{0}^{2} x_{1}^{5} x_{2}^{2} + 784 x_{0}^{2} x_{1}^{4} x_{2}^{3} - 480 x_{0}^{2} x_{1}^{3} x_{2}^{4} + 224 x_{0} x_{1}^{7} x_{2} - 480 x_{0} x_{1}^{6} x_{2}^{2} - 80 x_{1}^{9}$"
      ],
      "text/plain": [
       "16*x0**4*x1*x2**4 - 16*x0**4*x2**5 + 32*x0**3*x1**3*x2**3 - 288*x0**3*x1**2*x2**4 + 288*x0**3*x1*x2**5 - 192*x0**2*x1**5*x2**2 + 784*x0**2*x1**4*x2**3 - 480*x0**2*x1**3*x2**4 + 224*x0*x1**7*x2 - 480*x0*x1**6*x2**2 - 80*x1**9"
      ]
     },
     "execution_count": 6,
     "metadata": {},
     "output_type": "execute_result"
    }
   ],
   "source": [
    "Hess_F = Hessiano(F)\n",
    "Hess_F"
   ]
  },
  {
   "cell_type": "code",
   "execution_count": 7,
   "id": "6ee22696-7ef9-4bdc-b227-0ece22a92930",
   "metadata": {},
   "outputs": [
    {
     "data": {
      "text/latex": [
       "$\\displaystyle 96 x_{0}^{6} x_{2}^{3} - 288 x_{0}^{5} x_{1}^{2} x_{2}^{2} + 288 x_{0}^{4} x_{1}^{4} x_{2} + 480 x_{0}^{4} x_{1}^{3} x_{2}^{2} - 96 x_{0}^{3} x_{1}^{6} - 800 x_{0}^{3} x_{1}^{5} x_{2} + 320 x_{0}^{2} x_{1}^{7}$"
      ],
      "text/plain": [
       "96*x0**6*x2**3 - 288*x0**5*x1**2*x2**2 + 288*x0**4*x1**4*x2 + 480*x0**4*x1**3*x2**2 - 96*x0**3*x1**6 - 800*x0**3*x1**5*x2 + 320*x0**2*x1**7"
      ]
     },
     "execution_count": 7,
     "metadata": {},
     "output_type": "execute_result"
    }
   ],
   "source": [
    "Hess_G = Hessiano(G)\n",
    "Hess_G"
   ]
  },
  {
   "cell_type": "markdown",
   "id": "a5c50f1a-35df-49df-a8ca-3a9637889164",
   "metadata": {},
   "source": [
    "### Para Flex cogemos ceros de los polinomios y sus hessianos"
   ]
  },
  {
   "cell_type": "code",
   "execution_count": 9,
   "id": "cf6fa6b7-bfc0-4abb-a3f2-36478c096305",
   "metadata": {},
   "outputs": [
    {
     "data": {
      "text/plain": [
       "[(0, 0, x2),\n",
       " (x0, 0, 0),\n",
       " (9*x2*(4417752042923*sqrt(39) - 22964002207863*I)/(4096*(421386651*sqrt(39) - 7757819431*I)),\n",
       "  3*x2*(67/128 + 7*sqrt(39)*I/128),\n",
       "  x2),\n",
       " (9*x2*(4417752042923*sqrt(39) + 22964002207863*I)/(4096*(421386651*sqrt(39) + 7757819431*I)),\n",
       "  3*x2*(67/128 - 7*sqrt(39)*I/128),\n",
       "  x2)]"
      ]
     },
     "execution_count": 9,
     "metadata": {},
     "output_type": "execute_result"
    }
   ],
   "source": [
    "Flex_F = sp.solve((F,Hess_F),(x0,x1,x2))\n",
    "Flex_F"
   ]
  },
  {
   "cell_type": "code",
   "execution_count": 11,
   "id": "ca85572d-e4f5-452f-bff1-dc0606c23c64",
   "metadata": {},
   "outputs": [
    {
     "data": {
      "text/plain": [
       "[(0, 0, x2), (x0, 0, 0), (759375*x2/28672, 3375*x2/448, x2)]"
      ]
     },
     "execution_count": 11,
     "metadata": {},
     "output_type": "execute_result"
    }
   ],
   "source": [
    "Flex_G = sp.solve((G,Hess_G),(x0,x1,x2))\n",
    "Flex_G"
   ]
  },
  {
   "cell_type": "code",
   "execution_count": null,
   "id": "99ea2079-3b7c-4237-a5a3-40962c9cd5bc",
   "metadata": {},
   "outputs": [],
   "source": []
  },
  {
   "cell_type": "markdown",
   "id": "dec2ee27-005e-4c94-b155-ebb4c61e8db3",
   "metadata": {},
   "source": [
    "### Z(F,G)"
   ]
  },
  {
   "cell_type": "code",
   "execution_count": 12,
   "id": "74643ae5-e6b8-46d3-bd26-11b2a4edef6f",
   "metadata": {},
   "outputs": [
    {
     "data": {
      "text/plain": [
       "[(0, 0, x2),\n",
       " (x0, 0, 0),\n",
       " (x2/9, x2*(1/6 - sqrt(3)*I/6), x2),\n",
       " (x2/9, x2*(1/6 + sqrt(3)*I/6), x2)]"
      ]
     },
     "execution_count": 12,
     "metadata": {},
     "output_type": "execute_result"
    }
   ],
   "source": [
    "Z_FG = sp.solve((F,G),(x0,x1,x2))\n",
    "Z_FG"
   ]
  },
  {
   "cell_type": "markdown",
   "id": "5ee79294-fc0a-4bcb-84c2-4df73f517b69",
   "metadata": {},
   "source": [
    "### Resultante"
   ]
  },
  {
   "cell_type": "code",
   "execution_count": null,
   "id": "df309149-930a-409e-859e-62ac8c95ec9d",
   "metadata": {},
   "outputs": [],
   "source": [
    "Syl = sp.matrix([[],[],[],])"
   ]
  }
 ],
 "metadata": {
  "kernelspec": {
   "display_name": "Python 3 (ipykernel)",
   "language": "python",
   "name": "python3"
  },
  "language_info": {
   "codemirror_mode": {
    "name": "ipython",
    "version": 3
   },
   "file_extension": ".py",
   "mimetype": "text/x-python",
   "name": "python",
   "nbconvert_exporter": "python",
   "pygments_lexer": "ipython3",
   "version": "3.7.12"
  }
 },
 "nbformat": 4,
 "nbformat_minor": 5
}
