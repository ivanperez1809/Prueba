{
 "cells": [
  {
   "cell_type": "markdown",
   "id": "9df5e47e-89e6-418d-bab0-47f988d7d7e1",
   "metadata": {},
   "source": [
    "### Librerías"
   ]
  },
  {
   "cell_type": "code",
   "execution_count": 1,
   "id": "4f816d90-2d33-49d0-9821-a654f4e6eeae",
   "metadata": {},
   "outputs": [],
   "source": [
    "import numpy as np\n",
    "import sympy as sp\n",
    "from sympy import Symbol"
   ]
  },
  {
   "cell_type": "code",
   "execution_count": 2,
   "id": "a3ce1917-d280-4599-980d-ac375594d223",
   "metadata": {},
   "outputs": [],
   "source": [
    "x0 = Symbol('x0')\n",
    "x1 = Symbol('x1')\n",
    "x2 = Symbol('x2')"
   ]
  },
  {
   "cell_type": "markdown",
   "id": "95e09b18-19e2-4d7e-b287-e8a2a9d12949",
   "metadata": {},
   "source": [
    "### Función Hessiano"
   ]
  },
  {
   "cell_type": "code",
   "execution_count": 3,
   "id": "af3aeaf4-6c6f-4b72-9fb2-8df4e1cdee8f",
   "metadata": {},
   "outputs": [],
   "source": [
    "def Hessiano(f):\n",
    "    der1_x0 = sp.diff(f,x0) ; der1_x1 = sp.diff(f,x1) ; der1_x2 = sp.diff(f,x2)\n",
    "    \n",
    "    der2_x0x0 = sp.diff(der1_x0,x0) ; der2_x1x1 = sp.diff(der1_x1,x1) ; der2_x2x2 = sp.diff(der1_x2,x2)\n",
    "    der2_x0x1 = sp.diff(der1_x0,x1); der2_x0x2 = sp.diff(der1_x0,x2) ; der2_x1x2 = sp.diff(der1_x1,x2)\n",
    "    \n",
    "    Hess = sp.Matrix([[der2_x0x0, der2_x0x1, der2_x0x2],[der2_x0x1, der2_x1x1,der2_x1x2],[der2_x0x2,der2_x1x2,der2_x2x2]])\n",
    "    return(Hess.det())"
   ]
  },
  {
   "cell_type": "markdown",
   "id": "3b2daeb6-42c6-488b-8c10-f97bedfea2e9",
   "metadata": {},
   "source": [
    "### Polinomios"
   ]
  },
  {
   "cell_type": "code",
   "execution_count": 4,
   "id": "4fbce59c-dedd-4c41-8b29-8585e8405baf",
   "metadata": {},
   "outputs": [],
   "source": [
    "f = x1**5 - 2*x1**3*x2 + x1*x2**2 - x2**3\n",
    "g = -x1**5 + x1**4 - 2*x1**2*x2 + x2**2"
   ]
  },
  {
   "cell_type": "code",
   "execution_count": 5,
   "id": "0290de8f-992e-49f0-9aef-3fb2692efe80",
   "metadata": {},
   "outputs": [],
   "source": [
    "F = x1**5 -2*x0*x1**3*x2+x0**2*x1*x2**2 - x0**2*x2**3\n",
    "G = -x1**5 + x0*x1**4 - 2*x0**2*x1**2*x2+x0**3*x2**2"
   ]
  },
  {
   "cell_type": "markdown",
   "id": "23356278-ead7-4525-a814-1c58262063c7",
   "metadata": {},
   "source": [
    "### Hessianos de nuestros polinomios homogéneos"
   ]
  },
  {
   "cell_type": "code",
   "execution_count": 6,
   "id": "8b485327-7001-44ed-99d2-04d4134d49ab",
   "metadata": {},
   "outputs": [
    {
     "data": {
      "text/latex": [
       "$\\displaystyle 16 x_{0}^{4} x_{1} x_{2}^{4} - 16 x_{0}^{4} x_{2}^{5} + 32 x_{0}^{3} x_{1}^{3} x_{2}^{3} - 288 x_{0}^{3} x_{1}^{2} x_{2}^{4} + 288 x_{0}^{3} x_{1} x_{2}^{5} - 192 x_{0}^{2} x_{1}^{5} x_{2}^{2} + 784 x_{0}^{2} x_{1}^{4} x_{2}^{3} - 480 x_{0}^{2} x_{1}^{3} x_{2}^{4} + 224 x_{0} x_{1}^{7} x_{2} - 480 x_{0} x_{1}^{6} x_{2}^{2} - 80 x_{1}^{9}$"
      ],
      "text/plain": [
       "16*x0**4*x1*x2**4 - 16*x0**4*x2**5 + 32*x0**3*x1**3*x2**3 - 288*x0**3*x1**2*x2**4 + 288*x0**3*x1*x2**5 - 192*x0**2*x1**5*x2**2 + 784*x0**2*x1**4*x2**3 - 480*x0**2*x1**3*x2**4 + 224*x0*x1**7*x2 - 480*x0*x1**6*x2**2 - 80*x1**9"
      ]
     },
     "execution_count": 6,
     "metadata": {},
     "output_type": "execute_result"
    }
   ],
   "source": [
    "Hess_F = Hessiano(F)\n",
    "Hess_F"
   ]
  },
  {
   "cell_type": "code",
   "execution_count": 7,
   "id": "6ee22696-7ef9-4bdc-b227-0ece22a92930",
   "metadata": {},
   "outputs": [
    {
     "data": {
      "text/latex": [
       "$\\displaystyle 96 x_{0}^{6} x_{2}^{3} - 288 x_{0}^{5} x_{1}^{2} x_{2}^{2} + 288 x_{0}^{4} x_{1}^{4} x_{2} + 480 x_{0}^{4} x_{1}^{3} x_{2}^{2} - 96 x_{0}^{3} x_{1}^{6} - 800 x_{0}^{3} x_{1}^{5} x_{2} + 320 x_{0}^{2} x_{1}^{7}$"
      ],
      "text/plain": [
       "96*x0**6*x2**3 - 288*x0**5*x1**2*x2**2 + 288*x0**4*x1**4*x2 + 480*x0**4*x1**3*x2**2 - 96*x0**3*x1**6 - 800*x0**3*x1**5*x2 + 320*x0**2*x1**7"
      ]
     },
     "execution_count": 7,
     "metadata": {},
     "output_type": "execute_result"
    }
   ],
   "source": [
    "Hess_G = Hessiano(G)\n",
    "Hess_G"
   ]
  },
  {
   "cell_type": "markdown",
   "id": "a5c50f1a-35df-49df-a8ca-3a9637889164",
   "metadata": {},
   "source": [
    "### Para Flex cogemos ceros de los polinomios y sus hessianos"
   ]
  },
  {
   "cell_type": "code",
   "execution_count": 8,
   "id": "cf6fa6b7-bfc0-4abb-a3f2-36478c096305",
   "metadata": {},
   "outputs": [
    {
     "data": {
      "text/plain": [
       "[(0, 0, x2),\n",
       " (x0, 0, 0),\n",
       " (9*x2*(4417752042923*sqrt(39) - 22964002207863*I)/(4096*(421386651*sqrt(39) - 7757819431*I)),\n",
       "  3*x2*(67/128 + 7*sqrt(39)*I/128),\n",
       "  x2),\n",
       " (9*x2*(4417752042923*sqrt(39) + 22964002207863*I)/(4096*(421386651*sqrt(39) + 7757819431*I)),\n",
       "  3*x2*(67/128 - 7*sqrt(39)*I/128),\n",
       "  x2)]"
      ]
     },
     "execution_count": 8,
     "metadata": {},
     "output_type": "execute_result"
    }
   ],
   "source": [
    "Flex_F = sp.solve((F,Hess_F),(x0,x1,x2))\n",
    "Flex_F"
   ]
  },
  {
   "cell_type": "code",
   "execution_count": 9,
   "id": "ca85572d-e4f5-452f-bff1-dc0606c23c64",
   "metadata": {},
   "outputs": [
    {
     "data": {
      "text/plain": [
       "[(0, 0, x2), (x0, 0, 0), (759375*x2/28672, 3375*x2/448, x2)]"
      ]
     },
     "execution_count": 9,
     "metadata": {},
     "output_type": "execute_result"
    }
   ],
   "source": [
    "Flex_G = sp.solve((G,Hess_G),(x0,x1,x2))\n",
    "Flex_G"
   ]
  },
  {
   "cell_type": "code",
   "execution_count": null,
   "id": "99ea2079-3b7c-4237-a5a3-40962c9cd5bc",
   "metadata": {},
   "outputs": [],
   "source": []
  },
  {
   "cell_type": "markdown",
   "id": "dec2ee27-005e-4c94-b155-ebb4c61e8db3",
   "metadata": {},
   "source": [
    "### Z(F,G)"
   ]
  },
  {
   "cell_type": "code",
   "execution_count": 10,
   "id": "74643ae5-e6b8-46d3-bd26-11b2a4edef6f",
   "metadata": {},
   "outputs": [
    {
     "data": {
      "text/plain": [
       "[(0, 0, x2),\n",
       " (x0, 0, 0),\n",
       " (x2/9, x2*(1/6 - sqrt(3)*I/6), x2),\n",
       " (x2/9, x2*(1/6 + sqrt(3)*I/6), x2)]"
      ]
     },
     "execution_count": 10,
     "metadata": {},
     "output_type": "execute_result"
    }
   ],
   "source": [
    "Z_FG = sp.solve((F,G),(x0,x1,x2))\n",
    "Z_FG"
   ]
  },
  {
   "cell_type": "markdown",
   "id": "5ee79294-fc0a-4bcb-84c2-4df73f517b69",
   "metadata": {},
   "source": [
    "### Cono tangente G"
   ]
  },
  {
   "cell_type": "code",
   "execution_count": 11,
   "id": "df309149-930a-409e-859e-62ac8c95ec9d",
   "metadata": {},
   "outputs": [
    {
     "data": {
      "text/latex": [
       "$\\displaystyle 1.0 x_{0}^{3} - 2.0 x_{0}^{2} x_{1}^{2} - 30.1339285714286 x_{0}^{2} x_{1} - 34.0520119180485 x_{0}^{2} + 1.0 x_{0} x_{1}^{4} + 30.1339285714286 x_{0} x_{1}^{3} + 234.580526546556 x_{0} x_{1}^{2} + 114.013432761323 x_{0} x_{1} - 687.134527802616 x_{0} - 1.0 x_{1}^{5} - 11.1825125558036 x_{1}^{4} + 230.560497361787 x_{1}^{3} + 3340.23728792939 x_{1}^{2} + 8052.35774768691 x_{1}$"
      ],
      "text/plain": [
       "1.0*x0**3 - 2.0*x0**2*x1**2 - 30.1339285714286*x0**2*x1 - 34.0520119180485*x0**2 + 1.0*x0*x1**4 + 30.1339285714286*x0*x1**3 + 234.580526546556*x0*x1**2 + 114.013432761323*x0*x1 - 687.134527802616*x0 - 1.0*x1**5 - 11.1825125558036*x1**4 + 230.560497361787*x1**3 + 3340.23728792939*x1**2 + 8052.35774768691*x1"
      ]
     },
     "execution_count": 11,
     "metadata": {},
     "output_type": "execute_result"
    }
   ],
   "source": [
    "G2 = G.subs({x0:x0+759375/28672,x1:x1+3375/448,x2:1})\n",
    "G2.expand()"
   ]
  },
  {
   "cell_type": "markdown",
   "id": "0e149598-bcbd-448a-9dfd-943adb031127",
   "metadata": {},
   "source": [
    "#### Recta tangente G"
   ]
  },
  {
   "cell_type": "code",
   "execution_count": 12,
   "id": "8bd7d90c-aee5-43f0-bda8-530613dc94e3",
   "metadata": {},
   "outputs": [
    {
     "data": {
      "text/latex": [
       "$\\displaystyle x_{2} \\left(- \\frac{687.134527802616 x_{0}}{x_{2}} + \\frac{8052.35774768691 x_{1}}{x_{2}} - 42463.6053100677\\right)$"
      ],
      "text/plain": [
       "x2*(-687.134527802616*x0/x2 + 8052.35774768691*x1/x2 - 42463.6053100677)"
      ]
     },
     "execution_count": 12,
     "metadata": {},
     "output_type": "execute_result"
    }
   ],
   "source": [
    "LG = 8052.35774768691*(x1 - 3375/448) - 687.134527802616*(x0-759375/28672)\n",
    "LG_hom = x2*LG.subs({x0:x0/x2, x1:x1/x2})\n",
    "LG_hom"
   ]
  },
  {
   "cell_type": "code",
   "execution_count": 13,
   "id": "efa8a3e4-b1eb-4158-ae04-1f064f58342d",
   "metadata": {},
   "outputs": [
    {
     "data": {
      "text/plain": [
       "[(26.4848981584821*x2, 7.53348214285714*x2, x2),\n",
       " (3.4332275390625*x2*(-3.0 - 19.3649167310371*I),\n",
       "  375.0*x2*(0.01171875 - 0.0151288411961227*I),\n",
       "  x2),\n",
       " (3.4332275390625*x2*(-3.0 + 19.3649167310371*I),\n",
       "  375.0*x2*(0.01171875 + 0.0151288411961227*I),\n",
       "  x2)]"
      ]
     },
     "execution_count": 13,
     "metadata": {},
     "output_type": "execute_result"
    }
   ],
   "source": [
    "sp.solve((G,LG_hom),(x0,x1,x2))"
   ]
  },
  {
   "cell_type": "markdown",
   "id": "512fcb9e-843e-4094-b05f-de52eebd8166",
   "metadata": {},
   "source": [
    "### Recta tangente"
   ]
  },
  {
   "cell_type": "code",
   "execution_count": 46,
   "id": "875992ac-5ff3-4f69-9a90-cc01be86a23e",
   "metadata": {},
   "outputs": [
    {
     "data": {
      "text/latex": [
       "$\\displaystyle 1.0 x_{0}^{2} x_{1} + 0.5703125 x_{0}^{2} + 1.02456998411224 i x_{0}^{2} - 2.0 x_{0} x_{1}^{3} - 9.421875 x_{0} x_{1}^{2} - 6.14741990467342 i x_{0} x_{1}^{2} + 7.92333984375 x_{0} x_{1} - 9.24857369587029 i x_{0} x_{1} + 1.20547485351563 x_{0} + 9.55217116326068 i x_{0} + 1.0 x_{1}^{5} + 7.8515625 x_{1}^{4} + 5.12284992056119 i x_{1}^{4} - 2.2587890625 x_{1}^{3} + 22.1197341212803 i x_{1}^{3} - 57.1692123413086 x_{1}^{2} - 32.8155415070412 i x_{1}^{2} + 27.7057085037232 x_{1} - 73.0944671528487 i x_{1} + 2.8421709430404 \\cdot 10^{-14} + 1.4210854715202 \\cdot 10^{-14} i$"
      ],
      "text/plain": [
       "1.0*x0**2*x1 + 0.5703125*x0**2 + 1.02456998411224*I*x0**2 - 2.0*x0*x1**3 - 9.421875*x0*x1**2 - 6.14741990467342*I*x0*x1**2 + 7.92333984375*x0*x1 - 9.24857369587029*I*x0*x1 + 1.20547485351563*x0 + 9.55217116326068*I*x0 + 1.0*x1**5 + 7.8515625*x1**4 + 5.12284992056119*I*x1**4 - 2.2587890625*x1**3 + 22.1197341212803*I*x1**3 - 57.1692123413086*x1**2 - 32.8155415070412*I*x1**2 + 27.7057085037232*x1 - 73.0944671528487*I*x1 + 2.8421709430404e-14 + 1.4210854715202e-14*I"
      ]
     },
     "execution_count": 46,
     "metadata": {},
     "output_type": "execute_result"
    }
   ],
   "source": [
    "F2 = F.subs({x0:x0+9*(4417752042923*np.sqrt(39) - 22964002207863j)/(4096*(421386651*np.sqrt(39) - 7757819431j)),x1:x1+3/128*(67 + 7j*np.sqrt(39)),x2:1})\n",
    "F2.expand()"
   ]
  },
  {
   "cell_type": "code",
   "execution_count": 45,
   "id": "20c863d4-f0e5-408e-b286-a89c077722a8",
   "metadata": {},
   "outputs": [
    {
     "data": {
      "text/plain": [
       "(67+43.71498598878879j)"
      ]
     },
     "execution_count": 45,
     "metadata": {},
     "output_type": "execute_result"
    }
   ],
   "source": [
    "67 + 7j*np.sqrt(39)\n"
   ]
  },
  {
   "cell_type": "code",
   "execution_count": 34,
   "id": "9141fb99-fcc9-4711-b95f-f5e2e5cc0a83",
   "metadata": {},
   "outputs": [
    {
     "data": {
      "text/latex": [
       "$\\displaystyle 0$"
      ],
      "text/plain": [
       "0"
      ]
     },
     "execution_count": 34,
     "metadata": {},
     "output_type": "execute_result"
    }
   ],
   "source": [
    "h = x0-x1\n",
    "h.subs({x0:1,x1:1})"
   ]
  },
  {
   "cell_type": "code",
   "execution_count": null,
   "id": "bdff25c1-39a9-4d24-b97b-bc0ab8e9b079",
   "metadata": {},
   "outputs": [],
   "source": []
  },
  {
   "cell_type": "code",
   "execution_count": null,
   "id": "d52fbc34-b204-496a-b1c8-083afeb8b478",
   "metadata": {},
   "outputs": [],
   "source": []
  }
 ],
 "metadata": {
  "kernelspec": {
   "display_name": "Python 3 (ipykernel)",
   "language": "python",
   "name": "python3"
  },
  "language_info": {
   "codemirror_mode": {
    "name": "ipython",
    "version": 3
   },
   "file_extension": ".py",
   "mimetype": "text/x-python",
   "name": "python",
   "nbconvert_exporter": "python",
   "pygments_lexer": "ipython3",
   "version": "3.7.12"
  }
 },
 "nbformat": 4,
 "nbformat_minor": 5
}
