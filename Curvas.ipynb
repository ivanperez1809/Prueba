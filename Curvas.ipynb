{
 "cells": [
  {
   "cell_type": "markdown",
   "id": "9df5e47e-89e6-418d-bab0-47f988d7d7e1",
   "metadata": {},
   "source": [
    "### Librerías"
   ]
  },
  {
   "cell_type": "code",
   "execution_count": 1,
   "id": "4f816d90-2d33-49d0-9821-a654f4e6eeae",
   "metadata": {},
   "outputs": [],
   "source": [
    "import numpy as np\n",
    "import sympy as sp\n",
    "from sympy import Symbol"
   ]
  },
  {
   "cell_type": "code",
   "execution_count": 2,
   "id": "a3ce1917-d280-4599-980d-ac375594d223",
   "metadata": {},
   "outputs": [],
   "source": [
    "x = Symbol('x')\n",
    "y = Symbol('y')\n",
    "z = Symbol('z')"
   ]
  },
  {
   "cell_type": "markdown",
   "id": "95e09b18-19e2-4d7e-b287-e8a2a9d12949",
   "metadata": {},
   "source": [
    "### Función Hessiano"
   ]
  },
  {
   "cell_type": "code",
   "execution_count": 6,
   "id": "af3aeaf4-6c6f-4b72-9fb2-8df4e1cdee8f",
   "metadata": {},
   "outputs": [],
   "source": [
    "def Hessiano(f):\n",
    "    der1_x = sp.diff(f,x) ; der1_y = sp.diff(f,y) ; der1_z = sp.diff(f,z)\n",
    "    \n",
    "    der2_xx = sp.diff(der1_x,x) ; der2_yy = sp.diff(der1_y,y) ; der2_zz = sp.diff(der1_z,z)\n",
    "    der2_xy = sp.diff(der1_x,y); der2_xz = sp.diff(der1_x,z) ; der2_yz = sp.diff(der1_y,z)\n",
    "    \n",
    "    Hess = sp.Matrix([[der2_xx, der2_xy, der2_xz],[der2_xy, der2_yy,der2_yz],[der2_xz,der2_yz,der2_zz]])\n",
    "    return(Hess.det())"
   ]
  },
  {
   "cell_type": "markdown",
   "id": "3b2daeb6-42c6-488b-8c10-f97bedfea2e9",
   "metadata": {},
   "source": [
    "### Tomo x = x_0, y = x_1 = x, z = x_2 = y"
   ]
  },
  {
   "cell_type": "code",
   "execution_count": 7,
   "id": "0290de8f-992e-49f0-9aef-3fb2692efe80",
   "metadata": {},
   "outputs": [],
   "source": [
    "F = y**5 -2*x*y**3*z+x**2*y*z**2 - x**2*z**3\n",
    "G = -y**5 + x*y**4 - 2*x**2*y**2*z+x**3*z**2"
   ]
  },
  {
   "cell_type": "markdown",
   "id": "23356278-ead7-4525-a814-1c58262063c7",
   "metadata": {},
   "source": [
    "### Hessianos de nuestros polinomios homogéneos"
   ]
  },
  {
   "cell_type": "code",
   "execution_count": 8,
   "id": "8b485327-7001-44ed-99d2-04d4134d49ab",
   "metadata": {},
   "outputs": [
    {
     "data": {
      "text/latex": [
       "$\\displaystyle 16 x^{4} y z^{4} - 16 x^{4} z^{5} + 32 x^{3} y^{3} z^{3} - 288 x^{3} y^{2} z^{4} + 288 x^{3} y z^{5} - 192 x^{2} y^{5} z^{2} + 784 x^{2} y^{4} z^{3} - 480 x^{2} y^{3} z^{4} + 224 x y^{7} z - 480 x y^{6} z^{2} - 80 y^{9}$"
      ],
      "text/plain": [
       "16*x**4*y*z**4 - 16*x**4*z**5 + 32*x**3*y**3*z**3 - 288*x**3*y**2*z**4 + 288*x**3*y*z**5 - 192*x**2*y**5*z**2 + 784*x**2*y**4*z**3 - 480*x**2*y**3*z**4 + 224*x*y**7*z - 480*x*y**6*z**2 - 80*y**9"
      ]
     },
     "execution_count": 8,
     "metadata": {},
     "output_type": "execute_result"
    }
   ],
   "source": [
    "Hess_F = Hessiano(F)\n",
    "Hess_F"
   ]
  },
  {
   "cell_type": "code",
   "execution_count": 9,
   "id": "6ee22696-7ef9-4bdc-b227-0ece22a92930",
   "metadata": {},
   "outputs": [
    {
     "data": {
      "text/latex": [
       "$\\displaystyle 96 x^{6} z^{3} - 288 x^{5} y^{2} z^{2} + 288 x^{4} y^{4} z + 480 x^{4} y^{3} z^{2} - 96 x^{3} y^{6} - 800 x^{3} y^{5} z + 320 x^{2} y^{7}$"
      ],
      "text/plain": [
       "96*x**6*z**3 - 288*x**5*y**2*z**2 + 288*x**4*y**4*z + 480*x**4*y**3*z**2 - 96*x**3*y**6 - 800*x**3*y**5*z + 320*x**2*y**7"
      ]
     },
     "execution_count": 9,
     "metadata": {},
     "output_type": "execute_result"
    }
   ],
   "source": [
    "Hess_G = Hessiano(G)\n",
    "Hess_G"
   ]
  },
  {
   "cell_type": "markdown",
   "id": "a5c50f1a-35df-49df-a8ca-3a9637889164",
   "metadata": {},
   "source": [
    "### Para Flex cogemos ceros de los polinomios y sus hessianos"
   ]
  },
  {
   "cell_type": "code",
   "execution_count": 10,
   "id": "cf6fa6b7-bfc0-4abb-a3f2-36478c096305",
   "metadata": {},
   "outputs": [
    {
     "data": {
      "text/plain": [
       "[(0, 0, z),\n",
       " (x, 0, 0),\n",
       " (9*z*(4417752042923*sqrt(39) - 22964002207863*I)/(4096*(421386651*sqrt(39) - 7757819431*I)),\n",
       "  3*z*(67/128 + 7*sqrt(39)*I/128),\n",
       "  z),\n",
       " (9*z*(4417752042923*sqrt(39) + 22964002207863*I)/(4096*(421386651*sqrt(39) + 7757819431*I)),\n",
       "  3*z*(67/128 - 7*sqrt(39)*I/128),\n",
       "  z)]"
      ]
     },
     "execution_count": 10,
     "metadata": {},
     "output_type": "execute_result"
    }
   ],
   "source": [
    "Flex_F = sp.solve((F,Hess_F),(x,y,z))\n",
    "Flex_F"
   ]
  },
  {
   "cell_type": "code",
   "execution_count": 11,
   "id": "ca85572d-e4f5-452f-bff1-dc0606c23c64",
   "metadata": {},
   "outputs": [
    {
     "data": {
      "text/plain": [
       "[(0, 0, z), (x, 0, 0), (759375*z/28672, 3375*z/448, z)]"
      ]
     },
     "execution_count": 11,
     "metadata": {},
     "output_type": "execute_result"
    }
   ],
   "source": [
    "Flex_G = sp.solve((G,Hess_G),(x,y,z))\n",
    "Flex_G"
   ]
  },
  {
   "cell_type": "code",
   "execution_count": null,
   "id": "99ea2079-3b7c-4237-a5a3-40962c9cd5bc",
   "metadata": {},
   "outputs": [],
   "source": []
  },
  {
   "cell_type": "markdown",
   "id": "dec2ee27-005e-4c94-b155-ebb4c61e8db3",
   "metadata": {},
   "source": [
    "### Z(F,G)"
   ]
  },
  {
   "cell_type": "code",
   "execution_count": 13,
   "id": "74643ae5-e6b8-46d3-bd26-11b2a4edef6f",
   "metadata": {},
   "outputs": [
    {
     "data": {
      "text/plain": [
       "[(0, 0, z),\n",
       " (x, 0, 0),\n",
       " (z/9, z*(1/6 - sqrt(3)*I/6), z),\n",
       " (z/9, z*(1/6 + sqrt(3)*I/6), z)]"
      ]
     },
     "execution_count": 13,
     "metadata": {},
     "output_type": "execute_result"
    }
   ],
   "source": [
    "Z_FG = sp.solve((F,G),(x,y,z))\n",
    "Z_FG"
   ]
  },
  {
   "cell_type": "code",
   "execution_count": 14,
   "id": "c5f7c7d1-60e8-45cb-9ee5-8370f5c5507c",
   "metadata": {},
   "outputs": [
    {
     "data": {
      "text/plain": [
       "[-I, I]"
      ]
     },
     "execution_count": 14,
     "metadata": {},
     "output_type": "execute_result"
    }
   ],
   "source": [
    "sp.solve(x**2+1,x)"
   ]
  },
  {
   "cell_type": "code",
   "execution_count": null,
   "id": "df309149-930a-409e-859e-62ac8c95ec9d",
   "metadata": {},
   "outputs": [],
   "source": []
  }
 ],
 "metadata": {
  "kernelspec": {
   "display_name": "Python 3 (ipykernel)",
   "language": "python",
   "name": "python3"
  },
  "language_info": {
   "codemirror_mode": {
    "name": "ipython",
    "version": 3
   },
   "file_extension": ".py",
   "mimetype": "text/x-python",
   "name": "python",
   "nbconvert_exporter": "python",
   "pygments_lexer": "ipython3",
   "version": "3.7.12"
  }
 },
 "nbformat": 4,
 "nbformat_minor": 5
}
